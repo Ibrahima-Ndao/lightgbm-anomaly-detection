{
 "cells": [
  {
   "cell_type": "markdown",
   "metadata": {},
   "source": [
    "# Projet : Detection d’Anomalies dans le Trafic Reseau avec LightGBM"
   ]
  },
  {
   "cell_type": "code",
   "execution_count": 2,
   "metadata": {},
   "outputs": [],
   "source": [
    "import pandas as pd\n",
    "import numpy as np"
   ]
  },
  {
   "cell_type": "code",
   "execution_count": 5,
   "metadata": {},
   "outputs": [],
   "source": [
    "df = pd.read_csv('data-20221207.csv')"
   ]
  },
  {
   "cell_type": "code",
   "execution_count": 7,
   "metadata": {},
   "outputs": [
    {
     "data": {
      "text/plain": [
       "(35250, 84)"
      ]
     },
     "execution_count": 7,
     "metadata": {},
     "output_type": "execute_result"
    }
   ],
   "source": [
    "df.shape"
   ]
  },
  {
   "cell_type": "code",
   "execution_count": null,
   "metadata": {},
   "outputs": [],
   "source": [
    "from imblearn.pipeline import Pipeline as ImbPipeline\n",
    "from imblearn.over_sampling import SMOTE\n",
    "from sklearn.model_selection import GridSearchCV, train_test_split\n",
    "import lightgbm as lgb\n",
    "import optuna"
   ]
  },
  {
   "cell_type": "code",
   "execution_count": null,
   "metadata": {},
   "outputs": [],
   "source": [
    "# Séparation des données en entraînement et test\n",
    "X_entrainement, X_test, y_entrainement, y_test = train_test_split(X, y, test_size=0.2, random_state=42)"
   ]
  },
  {
   "cell_type": "code",
   "execution_count": null,
   "metadata": {},
   "outputs": [],
   "source": [
    "# Pipeline avec SMOTE et LightGBM\n",
    "pipeline = ImbPipeline(steps=[\n",
    "    ('equilibrage_classes', SMOTE(sampling_strategy='auto', random_state=42)),  # Gestion du déséquilibre des classes\n",
    "    ('modele', lgb.LGBMClassifier())  # Modèle LightGBM\n",
    "])\n"
   ]
  },
  {
   "cell_type": "code",
   "execution_count": null,
   "metadata": {},
   "outputs": [],
   "source": [
    "# Optimisation des hyperparamètres avec GridSearchCV\n",
    "grille_parametres = {\n",
    "    'modele__num_leaves': [31, 50, 70],\n",
    "    'modele__learning_rate': [0.01, 0.1, 0.2],\n",
    "    'modele__n_estimators': [100, 200, 300]\n",
    "}\n",
    "\n",
    "recherche_grille = GridSearchCV(pipeline, grille_parametres, cv=5, scoring='f1', verbose=2, n_jobs=-1)\n",
    "recherche_grille.fit(X_entrainement, y_entrainement)\n",
    "\n",
    "print(\"Meilleurs paramètres GridSearchCV :\", recherche_grille.best_params_)\n"
   ]
  },
  {
   "cell_type": "code",
   "execution_count": null,
   "metadata": {},
   "outputs": [],
   "source": [
    "# Optimisation des hyperparamètres avec Optuna\n",
    "def fonction_objectif(essai):\n",
    "    parametres = {\n",
    "        'num_leaves': essai.suggest_int('num_leaves', 20, 100),\n",
    "        'learning_rate': essai.suggest_loguniform('learning_rate', 0.001, 0.1),\n",
    "        'n_estimators': essai.suggest_int('n_estimators', 50, 300)\n",
    "    }\n",
    "    modele_lightgbm = lgb.LGBMClassifier(**parametres)\n",
    "    \n",
    "    pipeline_optuna = ImbPipeline(steps=[\n",
    "        ('equilibrage_classes', SMOTE(sampling_strategy='auto', random_state=42)),  # SMOTE\n",
    "        ('modele', modele_lightgbm)  # Modèle optimisé\n",
    "    ])\n",
    "    \n",
    "    pipeline_optuna.fit(X_entrainement, y_entrainement)\n",
    "    return pipeline_optuna.score(X_test, y_test)\n",
    "\n",
    "etude = optuna.create_study(direction='maximize')\n",
    "etude.optimize(fonction_objectif, n_trials=20)\n",
    "\n",
    "print(\"Meilleurs paramètres Optuna :\", etude.best_params)"
   ]
  },
  {
   "cell_type": "code",
   "execution_count": null,
   "metadata": {},
   "outputs": [],
   "source": []
  }
 ],
 "metadata": {
  "kernelspec": {
   "display_name": "Python 3 (ipykernel)",
   "language": "python",
   "name": "python3"
  },
  "language_info": {
   "codemirror_mode": {
    "name": "ipython",
    "version": 3
   },
   "file_extension": ".py",
   "mimetype": "text/x-python",
   "name": "python",
   "nbconvert_exporter": "python",
   "pygments_lexer": "ipython3",
   "version": "3.12.7"
  }
 },
 "nbformat": 4,
 "nbformat_minor": 4
}
