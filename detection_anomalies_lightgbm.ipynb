{
 "cells": [
  {
   "cell_type": "markdown",
   "metadata": {},
   "source": [
    "# Projet : Detection d’Anomalies dans le Trafic Reseau avec LightGBM"
   ]
  },
  {
   "cell_type": "code",
   "execution_count": 11,
   "metadata": {},
   "outputs": [
    {
     "name": "stdout",
     "output_type": "stream",
     "text": [
      "Collecting seaborn\n",
      "  Using cached seaborn-0.13.2-py3-none-any.whl.metadata (5.4 kB)\n",
      "Requirement already satisfied: numpy!=1.24.0,>=1.20 in c:\\users\\user\\appdata\\local\\programs\\python\\python313\\lib\\site-packages (from seaborn) (2.2.3)\n",
      "Requirement already satisfied: pandas>=1.2 in c:\\users\\user\\appdata\\local\\programs\\python\\python313\\lib\\site-packages (from seaborn) (2.2.3)\n",
      "Requirement already satisfied: matplotlib!=3.6.1,>=3.4 in c:\\users\\user\\appdata\\local\\programs\\python\\python313\\lib\\site-packages (from seaborn) (3.10.0)\n",
      "Requirement already satisfied: contourpy>=1.0.1 in c:\\users\\user\\appdata\\local\\programs\\python\\python313\\lib\\site-packages (from matplotlib!=3.6.1,>=3.4->seaborn) (1.3.1)\n",
      "Requirement already satisfied: cycler>=0.10 in c:\\users\\user\\appdata\\local\\programs\\python\\python313\\lib\\site-packages (from matplotlib!=3.6.1,>=3.4->seaborn) (0.12.1)\n",
      "Requirement already satisfied: fonttools>=4.22.0 in c:\\users\\user\\appdata\\local\\programs\\python\\python313\\lib\\site-packages (from matplotlib!=3.6.1,>=3.4->seaborn) (4.56.0)\n",
      "Requirement already satisfied: kiwisolver>=1.3.1 in c:\\users\\user\\appdata\\local\\programs\\python\\python313\\lib\\site-packages (from matplotlib!=3.6.1,>=3.4->seaborn) (1.4.8)\n",
      "Requirement already satisfied: packaging>=20.0 in c:\\users\\user\\appdata\\local\\programs\\python\\python313\\lib\\site-packages (from matplotlib!=3.6.1,>=3.4->seaborn) (24.2)\n",
      "Requirement already satisfied: pillow>=8 in c:\\users\\user\\appdata\\local\\programs\\python\\python313\\lib\\site-packages (from matplotlib!=3.6.1,>=3.4->seaborn) (11.1.0)\n",
      "Requirement already satisfied: pyparsing>=2.3.1 in c:\\users\\user\\appdata\\local\\programs\\python\\python313\\lib\\site-packages (from matplotlib!=3.6.1,>=3.4->seaborn) (3.2.1)\n",
      "Requirement already satisfied: python-dateutil>=2.7 in c:\\users\\user\\appdata\\local\\programs\\python\\python313\\lib\\site-packages (from matplotlib!=3.6.1,>=3.4->seaborn) (2.9.0.post0)\n",
      "Requirement already satisfied: pytz>=2020.1 in c:\\users\\user\\appdata\\local\\programs\\python\\python313\\lib\\site-packages (from pandas>=1.2->seaborn) (2025.1)\n",
      "Requirement already satisfied: tzdata>=2022.7 in c:\\users\\user\\appdata\\local\\programs\\python\\python313\\lib\\site-packages (from pandas>=1.2->seaborn) (2025.1)\n",
      "Requirement already satisfied: six>=1.5 in c:\\users\\user\\appdata\\local\\programs\\python\\python313\\lib\\site-packages (from python-dateutil>=2.7->matplotlib!=3.6.1,>=3.4->seaborn) (1.17.0)\n",
      "Using cached seaborn-0.13.2-py3-none-any.whl (294 kB)\n",
      "Installing collected packages: seaborn\n",
      "Successfully installed seaborn-0.13.2\n"
     ]
    },
    {
     "name": "stderr",
     "output_type": "stream",
     "text": [
      "\n",
      "[notice] A new release of pip is available: 24.3.1 -> 25.0.1\n",
      "[notice] To update, run: python.exe -m pip install --upgrade pip\n"
     ]
    }
   ],
   "source": [
    "!pip install seaborn"
   ]
  },
  {
   "cell_type": "code",
   "execution_count": 12,
   "metadata": {},
   "outputs": [],
   "source": [
    "import pandas as pd\n",
    "import numpy as np\n",
    "import matplotlib.pyplot as plt\n",
    "import seaborn as sns"
   ]
  },
  {
   "cell_type": "code",
   "execution_count": 13,
   "metadata": {},
   "outputs": [],
   "source": [
    "df = pd.read_csv('data-20221207.csv')"
   ]
  },
  {
   "cell_type": "code",
   "execution_count": 14,
   "metadata": {},
   "outputs": [
    {
     "data": {
      "text/plain": [
       "(35250, 84)"
      ]
     },
     "execution_count": 14,
     "metadata": {},
     "output_type": "execute_result"
    }
   ],
   "source": [
    "df.shape"
   ]
  },
  {
   "cell_type": "code",
   "execution_count": null,
   "metadata": {},
   "outputs": [
    {
     "name": "stdout",
     "output_type": "stream",
     "text": [
      "                                       Flow ID         Src IP  Src Port  \\\n",
      "0        192.168.20.19-54.77.51.148-33118-80-6  192.168.20.19     33118   \n",
      "1     192.168.20.48-108.137.181.26-53948-443-6  192.168.20.48     53948   \n",
      "2      192.168.20.43-34.232.93.236-58752-443-6  192.168.20.43     58752   \n",
      "3        192.168.20.43-54.70.5.180-46084-443-6  192.168.20.43     46084   \n",
      "4  192.168.20.15-255.255.255.255-49156-6666-17  192.168.20.15     49156   \n",
      "\n",
      "            Dst IP  Dst Port  Protocol               Timestamp  Flow Duration  \\\n",
      "0     54.77.51.148        80         6  06/12/2022 11:00:15 PM          36728   \n",
      "1   108.137.181.26       443         6  06/12/2022 11:00:51 PM         890408   \n",
      "2    34.232.93.236       443         6  06/12/2022 11:01:19 PM        3777984   \n",
      "3      54.70.5.180       443         6  06/12/2022 11:01:25 PM        8672390   \n",
      "4  255.255.255.255      6666        17  06/12/2022 11:00:02 PM      116995737   \n",
      "\n",
      "   Tot Fwd Pkts  Tot Bwd Pkts  ...  Fwd Seg Size Min  Active Mean  Active Std  \\\n",
      "0             5             3  ...                20            0           0   \n",
      "1            17            16  ...                32            0           0   \n",
      "2            13            13  ...                32            0           0   \n",
      "3            17            16  ...                32            0           0   \n",
      "4            40             0  ...                 8            0           0   \n",
      "\n",
      "   Active Max  Active Min     Idle Mean      Idle Std      Idle Max  \\\n",
      "0           0           0  1.670368e+15  1.428227e+04  1.670368e+15   \n",
      "1           0           0  1.670368e+15  1.818134e+05  1.670368e+15   \n",
      "2           0           0  1.670368e+15  3.286600e+05  1.670368e+15   \n",
      "3           0           0  1.670368e+15  1.159272e+06  1.670368e+15   \n",
      "4           0           0  1.670368e+15  3.333902e+07  1.670368e+15   \n",
      "\n",
      "       Idle Min     Label  \n",
      "0  1.670368e+15  No Label  \n",
      "1  1.670368e+15  No Label  \n",
      "2  1.670368e+15  No Label  \n",
      "3  1.670368e+15  No Label  \n",
      "4  1.670368e+15  No Label  \n",
      "\n",
      "[5 rows x 84 columns]\n",
      "           Src Port      Dst Port      Protocol  Flow Duration  Tot Fwd Pkts  \\\n",
      "count  35250.000000  35250.000000  35250.000000   3.525000e+04  35250.000000   \n",
      "mean   32725.215773   4093.957135      9.654014   5.863364e+07     10.557645   \n",
      "std    21034.118608   9286.531925      6.038117   4.878321e+07     35.308917   \n",
      "min        0.000000      0.000000      0.000000   3.900000e+01      1.000000   \n",
      "25%     9999.000000     53.000000      6.000000   2.550325e+04      2.000000   \n",
      "50%    40530.000000    443.000000      6.000000   6.487975e+07      4.000000   \n",
      "75%    50358.500000   5228.000000     17.000000   1.078150e+08     10.000000   \n",
      "max    65519.000000  60964.000000     17.000000   1.200000e+08   2901.000000   \n",
      "\n",
      "       Tot Bwd Pkts  TotLen Fwd Pkts  TotLen Bwd Pkts  Fwd Pkt Len Max  \\\n",
      "count  35250.000000     3.525000e+04     3.525000e+04     35250.000000   \n",
      "mean       7.305986     1.586903e+03     4.268761e+03       143.844766   \n",
      "std      203.282570     1.416406e+04     2.860409e+05       261.923888   \n",
      "min        0.000000     0.000000e+00     0.000000e+00         0.000000   \n",
      "25%        0.000000     2.700000e+01     0.000000e+00        11.000000   \n",
      "50%        1.000000     6.600000e+01     2.800000e+01        40.000000   \n",
      "75%        4.000000     5.910000e+02     1.380000e+02       180.000000   \n",
      "max    21068.000000     1.179094e+06     2.968596e+07      1460.000000   \n",
      "\n",
      "       Fwd Pkt Len Min  ...  Fwd Act Data Pkts  Fwd Seg Size Min  Active Mean  \\\n",
      "count     35250.000000  ...       35250.000000      35250.000000      35250.0   \n",
      "mean         38.786638  ...           5.662894         17.934525          0.0   \n",
      "std          79.460542  ...          16.352891         11.908453          0.0   \n",
      "min           0.000000  ...           0.000000          0.000000          0.0   \n",
      "25%           0.000000  ...           0.000000          8.000000          0.0   \n",
      "50%           0.000000  ...           1.000000         20.000000          0.0   \n",
      "75%          40.000000  ...           4.000000         32.000000          0.0   \n",
      "max         379.000000  ...         834.000000         44.000000          0.0   \n",
      "\n",
      "       Active Std  Active Max  Active Min     Idle Mean      Idle Std  \\\n",
      "count     35250.0     35250.0     35250.0  3.525000e+04  3.525000e+04   \n",
      "mean          0.0         0.0         0.0  1.121376e+15  4.242112e+13   \n",
      "std           0.0         0.0         0.0  7.703030e+14  1.772714e+14   \n",
      "min           0.0         0.0         0.0  0.000000e+00  0.000000e+00   \n",
      "25%           0.0         0.0         0.0  5.999839e+07  0.000000e+00   \n",
      "50%           0.0         0.0         0.0  1.670384e+15  2.958461e+07   \n",
      "75%           0.0         0.0         0.0  1.670418e+15  3.597575e+07   \n",
      "max           0.0         0.0         0.0  1.670453e+15  1.181188e+15   \n",
      "\n",
      "           Idle Max      Idle Min  \n",
      "count  3.525000e+04  3.525000e+04  \n",
      "mean   1.141281e+15  1.029683e+15  \n",
      "std    7.771114e+14  8.122588e+14  \n",
      "min    0.000000e+00  0.000000e+00  \n",
      "25%    5.999839e+07  5.000311e+06  \n",
      "50%    1.670390e+15  1.670384e+15  \n",
      "75%    1.670421e+15  1.670418e+15  \n",
      "max    1.670453e+15  1.670453e+15  \n",
      "\n",
      "[8 rows x 79 columns]\n"
     ]
    }
   ],
   "source": [
    "# Afficher les premières lignes du DataFrame\n",
    "print(df.head())\n",
    "\n",
    "# Statistiques descriptives\n",
    "df.describe()\n",
    "# Visualisation basique des données\n",
    "sns.pairplot(df)\n",
    "plt.show()"
   ]
  },
  {
   "cell_type": "code",
   "execution_count": null,
   "metadata": {},
   "outputs": [],
   "source": []
  }
 ],
 "metadata": {
  "kernelspec": {
   "display_name": "Python 3",
   "language": "python",
   "name": "python3"
  },
  "language_info": {
   "codemirror_mode": {
    "name": "ipython",
    "version": 3
   },
   "file_extension": ".py",
   "mimetype": "text/x-python",
   "name": "python",
   "nbconvert_exporter": "python",
   "pygments_lexer": "ipython3",
   "version": "3.13.2"
  }
 },
 "nbformat": 4,
 "nbformat_minor": 2
}
